{
 "cells": [
  {
   "cell_type": "markdown",
   "metadata": {
    "id": "Q91KqmCRu64D"
   },
   "source": [
    "# **Deep Learning Project: Street View Housing Number Digit Recognition**\n",
    "\n",
    "\n",
    "--------------\n",
    "## **Context** \n",
    "--------------\n",
    "\n",
    "One of the most interesting tasks in deep learning is to recognize objects in natural scenes. The ability to process visual information using machine learning algorithms can be very useful as demonstrated in various applications.\n",
    "\n",
    "The SVHN dataset contains over 600,000 labeled digits cropped from street-level photos. It is one of the most popular image recognition datasets. It has been used in neural networks created by Google to improve the map quality by automatically transcribing the address numbers from a patch of pixels. The transcribed number with a known street address helps pinpoint the location of the building it represents. \n",
    "\n",
    "----------------\n",
    "## **Objective**\n",
    "----------------\n",
    "\n",
    "Our objective is to predict the number depicted inside the image by using Artificial or Fully Connected Feed Forward Neural Networks and Convolutional Neural Networks. We will go through various models of each and finally select the one that is giving us the best performance. \n",
    "\n",
    "-------------\n",
    "## **Dataset**\n",
    "-------------\n",
    "Here, we will use a subset of the original data to save some computation time. The dataset is provided as a .h5 file. The basic preprocessing steps have been applied on the dataset."
   ]
  },
  {
   "cell_type": "markdown",
   "metadata": {
    "id": "8z2Z7-OAs8QG"
   },
   "source": [
    "## **Mount the drive**\n",
    "\n",
    "Let us start by mounting the Google drive. You can run the below cell to mount the Google drive."
   ]
  },
  {
   "cell_type": "code",
   "execution_count": 1,
   "metadata": {
    "colab": {
     "base_uri": "https://localhost:8080/"
    },
    "id": "03lDyQUuef7z",
    "outputId": "dd49bab2-8fe4-436c-e366-fb2539c2edf0"
   },
   "outputs": [
    {
     "name": "stdout",
     "output_type": "stream",
     "text": [
      "Mounted at /content/drive\n"
     ]
    }
   ],
   "source": [
    "from google.colab import drive\n",
    "drive.mount('/content/drive')"
   ]
  },
  {
   "cell_type": "markdown",
   "metadata": {
    "id": "C8U3DUa3eNsT"
   },
   "source": [
    "## **Importing the necessary libraries**"
   ]
  },
  {
   "cell_type": "code",
   "execution_count": 63,
   "metadata": {
    "id": "-dVzeuF3eQx1"
   },
   "outputs": [],
   "source": [
    "import numpy as np\n",
    "import pandas as pd\n",
    "import matplotlib.pyplot as plt\n",
    "import seaborn as sns\n",
    "from sklearn.model_selection import train_test_split\n",
    "from sklearn.preprocessing import MinMaxScaler\n",
    "from sklearn.metrics import classification_report, confusion_matrix\n",
    "import tensorflow as tf\n",
    "from tensorflow.keras.models import Sequential\n",
    "from tensorflow.keras.layers import Dense, Dropout, Activation, BatchNormalization, Conv2D, LeakyReLU, MaxPooling2D, Flatten \n",
    "from tensorflow.keras.losses import categorical_crossentropy\n",
    "from tensorflow.keras.optimizers import Adam\n",
    "from tensorflow.keras.utils import to_categorical\n",
    "import h5py"
   ]
  },
  {
   "cell_type": "markdown",
   "metadata": {
    "id": "ucnevGLoyKf_"
   },
   "source": [
    "**Let us check the version of tensorflow.**"
   ]
  },
  {
   "cell_type": "code",
   "execution_count": 3,
   "metadata": {
    "colab": {
     "base_uri": "https://localhost:8080/"
    },
    "id": "W5as47YxyJVk",
    "outputId": "d020e235-1b86-4834-89df-9096b274166c"
   },
   "outputs": [
    {
     "name": "stdout",
     "output_type": "stream",
     "text": [
      "2.12.0\n"
     ]
    }
   ],
   "source": [
    "print(tf.__version__)"
   ]
  },
  {
   "cell_type": "markdown",
   "metadata": {
    "id": "8lsux2ZwyTTR"
   },
   "source": [
    "## **Load the dataset**\n",
    "\n",
    "- Let us now load the dataset that is available as a .h5 file.\n",
    "- Split the data into the train and the test dataset."
   ]
  },
  {
   "cell_type": "code",
   "execution_count": 4,
   "metadata": {
    "id": "BApX9qgNsqV0",
    "scrolled": true
   },
   "outputs": [],
   "source": [
    "data = h5py.File('/content/drive/MyDrive/Elective Project/SVHN_single_grey1.h5', 'r')\n",
    "\n",
    "X_train = data['X_train'][:]\n",
    "y_train = data['y_train'][:]\n",
    "X_test = data['X_test'][:]\n",
    "y_test = data['y_test'][:]\n",
    "\n",
    "data.close()"
   ]
  },
  {
   "cell_type": "markdown",
   "metadata": {
    "id": "hVe0CYpUgj7w"
   },
   "source": [
    "Check the number of images in the training and the testing dataset."
   ]
  },
  {
   "cell_type": "code",
   "execution_count": 5,
   "metadata": {
    "colab": {
     "base_uri": "https://localhost:8080/"
    },
    "id": "y3lwKpOefkpA",
    "outputId": "ade7bb55-b28b-42c9-b29f-9c6655ecf915"
   },
   "outputs": [
    {
     "data": {
      "text/plain": [
       "42000"
      ]
     },
     "execution_count": 5,
     "metadata": {},
     "output_type": "execute_result"
    }
   ],
   "source": [
    "len(X_train)"
   ]
  },
  {
   "cell_type": "code",
   "execution_count": 6,
   "metadata": {
    "colab": {
     "base_uri": "https://localhost:8080/"
    },
    "id": "YThKgah6poKP",
    "outputId": "ce5c8cf1-8db7-44ea-da75-ea122dc1b1dc"
   },
   "outputs": [
    {
     "data": {
      "text/plain": [
       "18000"
      ]
     },
     "execution_count": 6,
     "metadata": {},
     "output_type": "execute_result"
    }
   ],
   "source": [
    "len(X_test)"
   ]
  },
  {
   "cell_type": "markdown",
   "metadata": {
    "id": "akTUOfLlgwoM"
   },
   "source": [
    "**Observation:**"
   ]
  },
  {
   "cell_type": "markdown",
   "metadata": {
    "id": "psWTwfyUpuIs"
   },
   "source": [
    "There are 42,000 images in the train set and 18,000 in the test set."
   ]
  },
  {
   "cell_type": "markdown",
   "metadata": {
    "id": "kxODV6HKykuc"
   },
   "source": [
    "## **Visualizing images**\n",
    "\n",
    "- Use X_train to visualize the first 10 images.\n",
    "- Use Y_train to print the first 10 labels."
   ]
  },
  {
   "cell_type": "code",
   "execution_count": 7,
   "metadata": {
    "colab": {
     "base_uri": "https://localhost:8080/",
     "height": 96
    },
    "id": "Bvsc8ytHsqWD",
    "outputId": "4675d257-5b52-49ca-9959-7b7f391db24c"
   },
   "outputs": [
    {
     "data": {
      "image/png": "[encoded data removed]",
      "text/plain": [
       "<Figure size 640x480 with 10 Axes>"
      ]
     },
     "metadata": {},
     "output_type": "display_data"
    },
    {
     "name": "stdout",
     "output_type": "stream",
     "text": [
      "First 10 labels:  [2 6 7 4 4 0 3 0 7 3]\n"
     ]
    }
   ],
   "source": [
    "# Show the first 10 images\n",
    "for i in range(10):\n",
    "    plt.subplot(1, 10, i+1)\n",
    "    plt.imshow(X_train[i], cmap='gray')\n",
    "    plt.axis('off')\n",
    "plt.show()\n",
    "\n",
    "# Print the first 10 labels\n",
    "print('First 10 labels: ', y_train[:10])"
   ]
  },
  {
   "cell_type": "markdown",
   "metadata": {
    "id": "kzoyeXHOy80N"
   },
   "source": [
    "## **Data preparation**\n",
    "\n",
    "- Print the shape and the array of pixels for the first image in the training dataset.\n",
    "- Normalize the train and the test dataset by dividing by 255.\n",
    "- Print the new shapes of the train and the test dataset.\n",
    "- One-hot encode the target variable."
   ]
  },
  {
   "cell_type": "code",
   "execution_count": 8,
   "metadata": {
    "colab": {
     "base_uri": "https://localhost:8080/"
    },
    "id": "NqndzQXng9rL",
    "outputId": "6d2ad382-b7f4-4379-d3ab-ec0ecca87a1c"
   },
   "outputs": [
    {
     "name": "stdout",
     "output_type": "stream",
     "text": [
      "Shape of the first image:\n",
      " (32, 32)\n",
      "Pixel array of the first image:\n",
      " [[ 33.0704  30.2601  26.852  ...  71.4471  58.2204  42.9939]\n",
      " [ 25.2283  25.5533  29.9765 ... 113.0209 103.3639  84.2949]\n",
      " [ 26.2775  22.6137  40.4763 ... 113.3028 121.775  115.4228]\n",
      " ...\n",
      " [ 28.5502  36.212   45.0801 ...  24.1359  25.0927  26.0603]\n",
      " [ 38.4352  26.4733  23.2717 ...  28.1094  29.4683  30.0661]\n",
      " [ 50.2984  26.0773  24.0389 ...  49.6682  50.853   53.0377]]\n"
     ]
    }
   ],
   "source": [
    "# Print the shape of the first image\n",
    "print(\"Shape of the first image:\\n\", X_train[0].shape)\n",
    "\n",
    "# Print the pixel array of the first image\n",
    "print(\"Pixel array of the first image:\\n\", X_train[0])"
   ]
  },
  {
   "cell_type": "markdown",
   "metadata": {
    "id": "f4CQkKtQ0XII"
   },
   "source": [
    "### **Normalize the train and the test data**"
   ]
  },
  {
   "cell_type": "code",
   "execution_count": 9,
   "metadata": {
    "id": "q_yUUTp_mUzB"
   },
   "outputs": [],
   "source": [
    "X_train = X_train / 255.0\n",
    "X_test = X_test / 255.0"
   ]
  },
  {
   "cell_type": "markdown",
   "metadata": {
    "id": "YSlYN6pb8kMY"
   },
   "source": [
    "Print the shapes of Training and Test data"
   ]
  },
  {
   "cell_type": "code",
   "execution_count": 10,
   "metadata": {
    "colab": {
     "base_uri": "https://localhost:8080/"
    },
    "id": "t7FSqOpamWkH",
    "outputId": "9de9b7e2-b94b-48cc-8fd6-a58fe020b324"
   },
   "outputs": [
    {
     "name": "stdout",
     "output_type": "stream",
     "text": [
      "Shape of X_train: (42000, 32, 32)\n",
      "Shape of y_train: (42000,)\n",
      "Shape of X_test: (18000, 32, 32)\n",
      "Shape of y_test: (18000,)\n"
     ]
    }
   ],
   "source": [
    "print(\"Shape of X_train:\", X_train.shape)\n",
    "print(\"Shape of y_train:\", y_train.shape)\n",
    "print(\"Shape of X_test:\", X_test.shape)\n",
    "print(\"Shape of y_test:\", y_test.shape)"
   ]
  },
  {
   "cell_type": "markdown",
   "metadata": {
    "id": "0uLxXBpz81vk"
   },
   "source": [
    "### **One-hot encode output**"
   ]
  },
  {
   "cell_type": "code",
   "execution_count": 11,
   "metadata": {
    "colab": {
     "base_uri": "https://localhost:8080/"
    },
    "id": "zL0lYER4sqWw",
    "outputId": "aa3dcf91-94bb-4dc5-b3bd-d832c1d2fe39"
   },
   "outputs": [
    {
     "data": {
      "text/plain": [
       "array([[0., 1., 0., ..., 0., 0., 0.],\n",
       "       [0., 0., 0., ..., 1., 0., 0.],\n",
       "       [0., 0., 1., ..., 0., 0., 0.],\n",
       "       ...,\n",
       "       [0., 0., 0., ..., 1., 0., 0.],\n",
       "       [0., 0., 0., ..., 0., 0., 1.],\n",
       "       [0., 0., 1., ..., 0., 0., 0.]], dtype=float32)"
      ]
     },
     "execution_count": 11,
     "metadata": {},
     "output_type": "execute_result"
    }
   ],
   "source": [
    "y_train_encoded = to_categorical(y_train)\n",
    "y_test_encoded = to_categorical(y_test)\n",
    "\n",
    "y_test_encoded"
   ]
  },
  {
   "cell_type": "markdown",
   "metadata": {
    "id": "ViqPOTquCF76"
   },
   "source": [
    "**Observation:**\n"
   ]
  },
  {
   "cell_type": "markdown",
   "metadata": {
    "id": "OyVcW7QNtzLs"
   },
   "source": [
    "Each label has been converted into a 1D array(vector) representing its value, e.g the label 3 is now represented as [0., 0., 0., 1., 0., 0., 0., 0., 0., 0.] (since there are 10 labels total inclusive of 0)"
   ]
  },
  {
   "cell_type": "markdown",
   "metadata": {
    "id": "yH-gVrzuByNA"
   },
   "source": [
    "## **Model Building**\n",
    "\n",
    "Now that we have done the data preprocessing, let's build an ANN model.\n",
    "\n",
    "### Fix the seed for random number generators"
   ]
  },
  {
   "cell_type": "code",
   "execution_count": 12,
   "metadata": {
    "id": "BcKRwrGn0XIL"
   },
   "outputs": [],
   "source": [
    "import random\n",
    "\n",
    "np.random.seed(25)\n",
    "random.seed(25)\n",
    "tf.random.set_seed(25)"
   ]
  },
  {
   "cell_type": "markdown",
   "metadata": {
    "id": "UJDUoaEj1d6e"
   },
   "source": [
    "### **Model Architecture**\n",
    "- Write a function that returns a sequential model with the following architecture:\n",
    " - First hidden layer with **64 nodes and the relu activation** and the **input shape = (1024, )**\n",
    " - Second hidden layer with **32 nodes and the relu activation**\n",
    " - Output layer with **activation as 'softmax' and number of nodes equal to the number of classes, i.e., 10**\n",
    " - Compile the model with the **loss equal to categorical_crossentropy, optimizer equal to Adam(learning_rate = 0.001), and metric equal to 'accuracy'**. Do not fit the model here, just return the compiled model.\n",
    "- Call the nn_model_1 function and store the model in a new variable. \n",
    "- Print the summary of the model.\n",
    "- Fit on the train data with a **validation split of 0.2, batch size = 128, verbose = 1, and epochs = 20**. Store the model building history to use later for visualization."
   ]
  },
  {
   "cell_type": "markdown",
   "metadata": {
    "id": "A48z6ucF0XIP"
   },
   "source": [
    "### **Build and train an ANN model as per the above mentioned architecture.**"
   ]
  },
  {
   "cell_type": "code",
   "execution_count": 16,
   "metadata": {
    "id": "Cmi81Gr5sqW-"
   },
   "outputs": [],
   "source": [
    "#To match the input shape, we have to flatten X_train and X_test from 2D to 1D arrays\n",
    "X_train_flattened = X_train.reshape(X_train.shape[0], -1)\n",
    "X_test_flattened = X_test.reshape(X_test.shape[0], -1)\n",
    "\n",
    "#Model Function\n",
    "def nn_model_1():\n",
    "    model = Sequential([\n",
    "        Dense(64, activation='relu', input_shape=(1024,)),\n",
    "        Dense(32, activation='relu'),\n",
    "        Dense(10, activation='softmax')\n",
    "    ])\n",
    "    model.compile(loss='categorical_crossentropy', optimizer=Adam(learning_rate=0.001), metrics=['accuracy'])\n",
    "    return model\n",
    "\n",
    "#Declaring the model\n",
    "model = nn_model_1()\n"
   ]
  },
  {
   "cell_type": "code",
   "execution_count": 17,
   "metadata": {
    "colab": {
     "base_uri": "https://localhost:8080/"
    },
    "id": "9i83e_1tTvox",
    "outputId": "eb0b715f-a69d-49dc-9f73-123373f4b548"
   },
   "outputs": [
    {
     "name": "stdout",
     "output_type": "stream",
     "text": [
      "Model: \"sequential_1\"\n",
      "_________________________________________________________________\n",
      " Layer (type)                Output Shape              Param #   \n",
      "=================================================================\n",
      " dense_3 (Dense)             (None, 64)                65600     \n",
      "                                                                 \n",
      " dense_4 (Dense)             (None, 32)                2080      \n",
      "                                                                 \n",
      " dense_5 (Dense)             (None, 10)                330       \n",
      "                                                                 \n",
      "=================================================================\n",
      "Total params: 68,010\n",
      "Trainable params: 68,010\n",
      "Non-trainable params: 0\n",
      "_________________________________________________________________\n"
     ]
    }
   ],
   "source": [
    "# Printing the model summary\n",
    "model.summary()"
   ]
  },
  {
   "cell_type": "code",
   "execution_count": 18,
   "metadata": {
    "colab": {
     "base_uri": "https://localhost:8080/"
    },
    "id": "44B5RGP5TzE-",
    "outputId": "74e975a0-6bfe-45b3-df42-7262ed8e8427"
   },
   "outputs": [
    {
     "name": "stdout",
     "output_type": "stream",
     "text": [
      "Epoch 1/20\n",
      "263/263 [==============================] - 2s 6ms/step - loss: 2.3028 - accuracy: 0.1111 - val_loss: 2.2848 - val_accuracy: 0.1258\n",
      "Epoch 2/20\n",
      "263/263 [==============================] - 1s 5ms/step - loss: 2.1199 - accuracy: 0.2377 - val_loss: 1.8635 - val_accuracy: 0.3435\n",
      "Epoch 3/20\n",
      "263/263 [==============================] - 2s 7ms/step - loss: 1.7111 - accuracy: 0.4177 - val_loss: 1.6003 - val_accuracy: 0.4705\n",
      "Epoch 4/20\n",
      "263/263 [==============================] - 2s 8ms/step - loss: 1.5355 - accuracy: 0.4946 - val_loss: 1.4979 - val_accuracy: 0.5114\n",
      "Epoch 5/20\n",
      "263/263 [==============================] - 2s 6ms/step - loss: 1.4433 - accuracy: 0.5287 - val_loss: 1.4476 - val_accuracy: 0.5205\n",
      "Epoch 6/20\n",
      "263/263 [==============================] - 1s 5ms/step - loss: 1.3846 - accuracy: 0.5469 - val_loss: 1.3547 - val_accuracy: 0.5638\n",
      "Epoch 7/20\n",
      "263/263 [==============================] - 1s 5ms/step - loss: 1.3460 - accuracy: 0.5601 - val_loss: 1.3183 - val_accuracy: 0.5754\n",
      "Epoch 8/20\n",
      "263/263 [==============================] - 1s 5ms/step - loss: 1.3085 - accuracy: 0.5750 - val_loss: 1.3421 - val_accuracy: 0.5573\n",
      "Epoch 9/20\n",
      "263/263 [==============================] - 1s 4ms/step - loss: 1.2887 - accuracy: 0.5821 - val_loss: 1.2744 - val_accuracy: 0.5956\n",
      "Epoch 10/20\n",
      "263/263 [==============================] - 1s 5ms/step - loss: 1.2625 - accuracy: 0.5920 - val_loss: 1.2519 - val_accuracy: 0.5974\n",
      "Epoch 11/20\n",
      "263/263 [==============================] - 1s 5ms/step - loss: 1.2445 - accuracy: 0.5996 - val_loss: 1.2484 - val_accuracy: 0.5999\n",
      "Epoch 12/20\n",
      "263/263 [==============================] - 1s 5ms/step - loss: 1.2237 - accuracy: 0.6080 - val_loss: 1.2220 - val_accuracy: 0.6125\n",
      "Epoch 13/20\n",
      "263/263 [==============================] - 2s 6ms/step - loss: 1.2051 - accuracy: 0.6174 - val_loss: 1.1857 - val_accuracy: 0.6281\n",
      "Epoch 14/20\n",
      "263/263 [==============================] - 2s 8ms/step - loss: 1.1770 - accuracy: 0.6292 - val_loss: 1.1680 - val_accuracy: 0.6368\n",
      "Epoch 15/20\n",
      "263/263 [==============================] - 2s 6ms/step - loss: 1.1599 - accuracy: 0.6373 - val_loss: 1.1632 - val_accuracy: 0.6350\n",
      "Epoch 16/20\n",
      "263/263 [==============================] - 1s 5ms/step - loss: 1.1455 - accuracy: 0.6455 - val_loss: 1.1313 - val_accuracy: 0.6475\n",
      "Epoch 17/20\n",
      "263/263 [==============================] - 1s 4ms/step - loss: 1.1316 - accuracy: 0.6490 - val_loss: 1.1630 - val_accuracy: 0.6345\n",
      "Epoch 18/20\n",
      "263/263 [==============================] - 1s 5ms/step - loss: 1.1110 - accuracy: 0.6594 - val_loss: 1.1175 - val_accuracy: 0.6542\n",
      "Epoch 19/20\n",
      "263/263 [==============================] - 1s 5ms/step - loss: 1.0967 - accuracy: 0.6637 - val_loss: 1.0962 - val_accuracy: 0.6625\n",
      "Epoch 20/20\n",
      "263/263 [==============================] - 1s 5ms/step - loss: 1.0865 - accuracy: 0.6682 - val_loss: 1.1231 - val_accuracy: 0.6540\n"
     ]
    }
   ],
   "source": [
    "#Fitting\n",
    "history = model.fit(X_train_flattened, y_train_encoded, \n",
    "                    validation_split=0.2, \n",
    "                    batch_size=128, \n",
    "                    verbose=1, \n",
    "                    epochs=20)"
   ]
  },
  {
   "cell_type": "markdown",
   "metadata": {
    "id": "MeF8XSWz0XIU"
   },
   "source": [
    "### **Plot the Training and Validation Accuracies and write down your Observations.**"
   ]
  },
  {
   "cell_type": "code",
   "execution_count": 20,
   "metadata": {
    "colab": {
     "base_uri": "https://localhost:8080/",
     "height": 472
    },
    "id": "lt77zgGMP4yw",
    "outputId": "c85f7c00-38ee-42b4-c97c-9dff702aa9b2"
   },
   "outputs": [
    {
     "data": {
      "image/png": "[encoded data removed]",
      "text/plain": [
       "<Figure size 640x480 with 1 Axes>"
      ]
     },
     "metadata": {},
     "output_type": "display_data"
    }
   ],
   "source": [
    "# Plot training & validation accuracy values\n",
    "plt.plot(history.history['accuracy'])\n",
    "plt.plot(history.history['val_accuracy'])\n",
    "plt.title('Model accuracy')\n",
    "plt.ylabel('Accuracy')\n",
    "plt.xlabel('Epoch')\n",
    "plt.legend(['Train', 'Validation'], loc='upper left')\n",
    "\n",
    "plt.show()"
   ]
  },
  {
   "cell_type": "markdown",
   "metadata": {
    "id": "pGBbQpLONX7k"
   },
   "source": [
    "**Observations:**\n",
    "\n",
    "1.   Convergenece occurs around 4 epochs after which improvements are incremental, not rapid.\n",
    "2.   No signs of overfitting as the training and validation accuracies remain close throughout.\n",
    "1.   There is likely some underfitting as the accuracies peak at 65% and improvement is slow.\n",
    "\n",
    "\n",
    "\n",
    "\n",
    "\n",
    "\n",
    "\n"
   ]
  },
  {
   "cell_type": "markdown",
   "metadata": {
    "id": "z0qgLMBZm5-K"
   },
   "source": [
    "Let's build one more model with higher complexity and see if we can improve the performance of the model. \n",
    "\n",
    "First, we need to clear the previous model's history from the Keras backend. Also, let's fix the seed again after clearing the backend."
   ]
  },
  {
   "cell_type": "code",
   "execution_count": 36,
   "metadata": {
    "id": "I_ih3wEU9wIk"
   },
   "outputs": [],
   "source": [
    "from tensorflow.keras import backend\n",
    "\n",
    "backend.clear_session()\n",
    "\n",
    "np.random.seed(25)\n",
    "random.seed(25)\n",
    "tf.random.set_seed(25)\n"
   ]
  },
  {
   "cell_type": "markdown",
   "metadata": {
    "id": "lT6o3TIKuCtk"
   },
   "source": [
    "### **Second Model Architecture**\n",
    "- Write a function that returns a sequential model with the following architecture:\n",
    " - First hidden layer with **256 nodes and the relu activation** and the **input shape = (1024, )**\n",
    " - Second hidden layer with **128 nodes and the relu activation**\n",
    " - Add the **Dropout layer with the rate equal to 0.2**\n",
    " - Third hidden layer with **64 nodes and the relu activation**\n",
    " - Fourth hidden layer with **64 nodes and the relu activation**\n",
    " - Fifth hidden layer with **32 nodes and the relu activation**\n",
    " - Add the **BatchNormalization layer**\n",
    " - Output layer with **activation as 'softmax' and number of nodes equal to the number of classes, i.e., 10**\n",
    " -Compile the model with the **loss equal to categorical_crossentropy, optimizer equal to Adam(learning_rate = 0.0005), and metric equal to 'accuracy'**. Do not fit the model here, just return the compiled model.\n",
    "- Call the nn_model_2 function and store the model in a new variable.\n",
    "- Print the summary of the model.\n",
    "- Fit on the train data with a **validation split of 0.2, batch size = 128, verbose = 1, and epochs = 30**. Store the model building history to use later for visualization."
   ]
  },
  {
   "cell_type": "markdown",
   "metadata": {
    "id": "f-ZjNBmH0XIV"
   },
   "source": [
    "### **Build and train the new ANN model as per the above mentioned architecture**"
   ]
  },
  {
   "cell_type": "code",
   "execution_count": 37,
   "metadata": {
    "id": "EEPYLFIPnSDP"
   },
   "outputs": [],
   "source": [
    "#Model 2 Function\n",
    "def nn_model_2():\n",
    "    model = Sequential([\n",
    "        Dense(256, activation='relu', input_shape=(1024, )),\n",
    "        Dense(128, activation='relu'),\n",
    "        Dropout(0.2),\n",
    "        Dense(64, activation='relu'),\n",
    "        Dense(64, activation='relu'),\n",
    "        Dense(32, activation='relu'),\n",
    "        BatchNormalization(),\n",
    "        Dense(10, activation='softmax')\n",
    "    ])\n",
    "    \n",
    "    model.compile(loss='categorical_crossentropy', optimizer=Adam(learning_rate=0.0005), metrics=['accuracy'])\n",
    "    return model\n",
    "\n",
    "#Declaring the model\n",
    "model_2 = nn_model_2()"
   ]
  },
  {
   "cell_type": "code",
   "execution_count": 38,
   "metadata": {
    "colab": {
     "base_uri": "https://localhost:8080/"
    },
    "id": "FmFFl71AaoDR",
    "outputId": "f920a8ff-2279-4fef-b74b-f919ba2bb352"
   },
   "outputs": [
    {
     "name": "stdout",
     "output_type": "stream",
     "text": [
      "Model: \"sequential\"\n",
      "_________________________________________________________________\n",
      " Layer (type)                Output Shape              Param #   \n",
      "=================================================================\n",
      " dense (Dense)               (None, 256)               262400    \n",
      "                                                                 \n",
      " dense_1 (Dense)             (None, 128)               32896     \n",
      "                                                                 \n",
      " dropout (Dropout)           (None, 128)               0         \n",
      "                                                                 \n",
      " dense_2 (Dense)             (None, 64)                8256      \n",
      "                                                                 \n",
      " dense_3 (Dense)             (None, 64)                4160      \n",
      "                                                                 \n",
      " dense_4 (Dense)             (None, 32)                2080      \n",
      "                                                                 \n",
      " batch_normalization (BatchN  (None, 32)               128       \n",
      " ormalization)                                                   \n",
      "                                                                 \n",
      " dense_5 (Dense)             (None, 10)                330       \n",
      "                                                                 \n",
      "=================================================================\n",
      "Total params: 310,250\n",
      "Trainable params: 310,186\n",
      "Non-trainable params: 64\n",
      "_________________________________________________________________\n"
     ]
    }
   ],
   "source": [
    "# Printing the model summary\n",
    "model_2.summary()"
   ]
  },
  {
   "cell_type": "code",
   "execution_count": 39,
   "metadata": {
    "colab": {
     "base_uri": "https://localhost:8080/"
    },
    "id": "Nlw6I3KXbAsH",
    "outputId": "cbc99931-5651-47b8-d9ba-6f495ddea72e"
   },
   "outputs": [
    {
     "name": "stdout",
     "output_type": "stream",
     "text": [
      "Epoch 1/30\n",
      "263/263 [==============================] - 6s 17ms/step - loss: 2.3711 - accuracy: 0.1019 - val_loss: 2.3067 - val_accuracy: 0.1023\n",
      "Epoch 2/30\n",
      "263/263 [==============================] - 3s 11ms/step - loss: 2.2880 - accuracy: 0.1215 - val_loss: 2.2071 - val_accuracy: 0.1845\n",
      "Epoch 3/30\n",
      "263/263 [==============================] - 3s 11ms/step - loss: 1.8951 - accuracy: 0.3113 - val_loss: 1.6393 - val_accuracy: 0.4525\n",
      "Epoch 4/30\n",
      "263/263 [==============================] - 3s 10ms/step - loss: 1.5319 - accuracy: 0.4766 - val_loss: 1.4065 - val_accuracy: 0.5362\n",
      "Epoch 5/30\n",
      "263/263 [==============================] - 4s 15ms/step - loss: 1.3193 - accuracy: 0.5674 - val_loss: 1.2047 - val_accuracy: 0.6145\n",
      "Epoch 6/30\n",
      "263/263 [==============================] - 3s 12ms/step - loss: 1.2160 - accuracy: 0.6074 - val_loss: 1.1701 - val_accuracy: 0.6226\n",
      "Epoch 7/30\n",
      "263/263 [==============================] - 3s 11ms/step - loss: 1.1453 - accuracy: 0.6313 - val_loss: 1.0461 - val_accuracy: 0.6670\n",
      "Epoch 8/30\n",
      "263/263 [==============================] - 3s 10ms/step - loss: 1.0828 - accuracy: 0.6530 - val_loss: 1.0913 - val_accuracy: 0.6479\n",
      "Epoch 9/30\n",
      "263/263 [==============================] - 3s 10ms/step - loss: 1.0447 - accuracy: 0.6651 - val_loss: 0.9454 - val_accuracy: 0.6998\n",
      "Epoch 10/30\n",
      "263/263 [==============================] - 4s 16ms/step - loss: 1.0019 - accuracy: 0.6824 - val_loss: 0.9934 - val_accuracy: 0.6836\n",
      "Epoch 11/30\n",
      "263/263 [==============================] - 3s 11ms/step - loss: 0.9750 - accuracy: 0.6922 - val_loss: 0.9335 - val_accuracy: 0.7042\n",
      "Epoch 12/30\n",
      "263/263 [==============================] - 3s 10ms/step - loss: 0.9462 - accuracy: 0.6993 - val_loss: 0.9099 - val_accuracy: 0.7115\n",
      "Epoch 13/30\n",
      "263/263 [==============================] - 3s 11ms/step - loss: 0.9242 - accuracy: 0.7093 - val_loss: 0.8517 - val_accuracy: 0.7300\n",
      "Epoch 14/30\n",
      "263/263 [==============================] - 3s 13ms/step - loss: 0.9097 - accuracy: 0.7104 - val_loss: 0.8812 - val_accuracy: 0.7181\n",
      "Epoch 15/30\n",
      "263/263 [==============================] - 4s 15ms/step - loss: 0.8905 - accuracy: 0.7186 - val_loss: 0.8051 - val_accuracy: 0.7511\n",
      "Epoch 16/30\n",
      "263/263 [==============================] - 3s 11ms/step - loss: 0.8726 - accuracy: 0.7235 - val_loss: 0.8184 - val_accuracy: 0.7407\n",
      "Epoch 17/30\n",
      "263/263 [==============================] - 3s 11ms/step - loss: 0.8590 - accuracy: 0.7301 - val_loss: 0.8138 - val_accuracy: 0.7395\n",
      "Epoch 18/30\n",
      "263/263 [==============================] - 6s 23ms/step - loss: 0.8446 - accuracy: 0.7318 - val_loss: 0.8245 - val_accuracy: 0.7410\n",
      "Epoch 19/30\n",
      "263/263 [==============================] - 6s 21ms/step - loss: 0.8257 - accuracy: 0.7387 - val_loss: 0.7974 - val_accuracy: 0.7500\n",
      "Epoch 20/30\n",
      "263/263 [==============================] - 4s 17ms/step - loss: 0.8164 - accuracy: 0.7414 - val_loss: 0.8020 - val_accuracy: 0.7471\n",
      "Epoch 21/30\n",
      "263/263 [==============================] - 6s 24ms/step - loss: 0.8016 - accuracy: 0.7476 - val_loss: 0.8052 - val_accuracy: 0.7465\n",
      "Epoch 22/30\n",
      "263/263 [==============================] - 3s 11ms/step - loss: 0.7908 - accuracy: 0.7496 - val_loss: 0.7612 - val_accuracy: 0.7605\n",
      "Epoch 23/30\n",
      "263/263 [==============================] - 3s 10ms/step - loss: 0.7827 - accuracy: 0.7522 - val_loss: 0.7754 - val_accuracy: 0.7538\n",
      "Epoch 24/30\n",
      "263/263 [==============================] - 3s 10ms/step - loss: 0.7738 - accuracy: 0.7545 - val_loss: 0.8100 - val_accuracy: 0.7462\n",
      "Epoch 25/30\n",
      "263/263 [==============================] - 3s 10ms/step - loss: 0.7595 - accuracy: 0.7604 - val_loss: 0.7526 - val_accuracy: 0.7657\n",
      "Epoch 26/30\n",
      "263/263 [==============================] - 4s 16ms/step - loss: 0.7567 - accuracy: 0.7590 - val_loss: 0.7414 - val_accuracy: 0.7669\n",
      "Epoch 27/30\n",
      "263/263 [==============================] - 3s 10ms/step - loss: 0.7612 - accuracy: 0.7586 - val_loss: 0.7317 - val_accuracy: 0.7687\n",
      "Epoch 28/30\n",
      "263/263 [==============================] - 3s 12ms/step - loss: 0.7393 - accuracy: 0.7659 - val_loss: 0.7191 - val_accuracy: 0.7743\n",
      "Epoch 29/30\n",
      "263/263 [==============================] - 4s 15ms/step - loss: 0.7411 - accuracy: 0.7651 - val_loss: 0.7229 - val_accuracy: 0.7755\n",
      "Epoch 30/30\n",
      "263/263 [==============================] - 4s 17ms/step - loss: 0.7252 - accuracy: 0.7707 - val_loss: 0.7166 - val_accuracy: 0.7746\n"
     ]
    }
   ],
   "source": [
    "#Fitting model 2\n",
    "\n",
    "history_2 = model_2.fit(\n",
    "    X_train_flattened, y_train_encoded, \n",
    "    validation_split=0.2,\n",
    "    batch_size=128, \n",
    "    verbose=1, \n",
    "    epochs=30\n",
    ")"
   ]
  },
  {
   "cell_type": "markdown",
   "metadata": {
    "id": "ZJYsvjmw0XIX"
   },
   "source": [
    "### **Plot the Training and Validation Accuracies and write down your Observations.**"
   ]
  },
  {
   "cell_type": "code",
   "execution_count": 40,
   "metadata": {
    "colab": {
     "base_uri": "https://localhost:8080/",
     "height": 472
    },
    "id": "01ig6BrF1KVy",
    "outputId": "fb22e567-43f3-4a1a-beeb-c1a3afb73e06"
   },
   "outputs": [
    {
     "data": {
      "image/png": "[encoded data removed]",
      "text/plain": [
       "<Figure size 640x480 with 1 Axes>"
      ]
     },
     "metadata": {},
     "output_type": "display_data"
    }
   ],
   "source": [
    "# Plot training & validation accuracy values\n",
    "plt.plot(history_2.history['accuracy'])\n",
    "plt.plot(history_2.history['val_accuracy'])\n",
    "plt.title('Model accuracy')\n",
    "plt.ylabel('Accuracy')\n",
    "plt.xlabel('Epoch')\n",
    "plt.legend(['Train', 'Validation'], loc='upper left')\n",
    "\n",
    "plt.show()"
   ]
  },
  {
   "cell_type": "markdown",
   "metadata": {
    "id": "VPW1LlD61RDn"
   },
   "source": [
    "**Observations:**\n",
    "1.   Convergenece occurs around 4 epochs after which improvements are incremental, not rapid.\n",
    "2.   No signs of overfitting as the training and validation accuracies remain close throughout.\n",
    "1.   Despite accuracy improvements over the previous model, there is likely still some underfitting as the accuracies peak at 75% and improvement is slow.\n"
   ]
  },
  {
   "cell_type": "markdown",
   "metadata": {
    "id": "8kuXx9Bvu00f"
   },
   "source": [
    "## **Predictions on the test data**\n",
    "\n",
    "- Make predictions on the test set using the second model.\n",
    "- Print the obtained results using the classification report and the confusion matrix.\n",
    "- Final observations on the obtained results."
   ]
  },
  {
   "cell_type": "code",
   "execution_count": 41,
   "metadata": {
    "colab": {
     "base_uri": "https://localhost:8080/"
    },
    "id": "xbWMEtTj5Ad0",
    "outputId": "bd6e37bd-701a-4f93-fd71-9253d93a2732"
   },
   "outputs": [
    {
     "name": "stdout",
     "output_type": "stream",
     "text": [
      "563/563 [==============================] - 1s 2ms/step\n"
     ]
    }
   ],
   "source": [
    "y_test_pred = model_2.predict(X_test_flattened)"
   ]
  },
  {
   "cell_type": "markdown",
   "metadata": {
    "id": "i3li8Ib08yts"
   },
   "source": [
    "**Note:** Earlier, we noticed that each entry of the target variable is a one-hot encoded vector but to print the classification report and confusion matrix, we must convert each entry of y_test to a single label."
   ]
  },
  {
   "cell_type": "code",
   "execution_count": 42,
   "metadata": {
    "id": "NByu7uAQ8x9P"
   },
   "outputs": [],
   "source": [
    "y_test_pred_classes = np.argmax(y_test_pred, axis=1)"
   ]
  },
  {
   "cell_type": "markdown",
   "metadata": {
    "id": "1_SIoopr0XIg"
   },
   "source": [
    "### **Print the classification report and the confusion matrix for the test predictions. Write your observations on the final results.**"
   ]
  },
  {
   "cell_type": "code",
   "execution_count": 50,
   "metadata": {
    "colab": {
     "base_uri": "https://localhost:8080/"
    },
    "id": "xRddeJ-3EHT1",
    "outputId": "efe39fe1-caad-472c-804b-7d25f79d4da9"
   },
   "outputs": [
    {
     "name": "stdout",
     "output_type": "stream",
     "text": [
      "Classification Report:\n",
      "\n",
      "              precision    recall  f1-score   support\n",
      "\n",
      "           0       0.85      0.76      0.80      1814\n",
      "           1       0.73      0.84      0.78      1828\n",
      "           2       0.81      0.76      0.79      1803\n",
      "           3       0.70      0.76      0.73      1719\n",
      "           4       0.79      0.85      0.82      1812\n",
      "           5       0.78      0.73      0.75      1768\n",
      "           6       0.83      0.76      0.79      1832\n",
      "           7       0.70      0.88      0.78      1808\n",
      "           8       0.86      0.66      0.74      1812\n",
      "           9       0.76      0.76      0.76      1804\n",
      "\n",
      "    accuracy                           0.78     18000\n",
      "   macro avg       0.78      0.78      0.78     18000\n",
      "weighted avg       0.78      0.78      0.78     18000\n",
      "\n",
      "Confusion Matrix:\n",
      "\n",
      "[[1386   70   21   61   63    9   40   72   16   76]\n",
      " [  21 1540   22   43   64   10   12   87    8   21]\n",
      " [  10   49 1369   46   34   17    4  223   16   35]\n",
      " [  16   74   48 1314   32   88   11   86   19   31]\n",
      " [  20   71   31   27 1534   15   26   26   12   50]\n",
      " [  27   45   18  177   24 1289   67   35   32   54]\n",
      " [  63   50   23   26   75   88 1386   33   59   29]\n",
      " [   8   63   65   15   18   14   11 1584    6   24]\n",
      " [  34   69   52   81   53   71   96   40 1194  122]\n",
      " [  49   67   34   76   34   52   12   80   32 1368]]\n"
     ]
    }
   ],
   "source": [
    "\n",
    "# print the classification report\n",
    "print(\"Classification Report:\\n\")\n",
    "print(classification_report(y_test, y_test_pred_classes))\n",
    "\n",
    "\n",
    "# print the confusion matrix\n",
    "print(\"Confusion Matrix:\\n\")\n",
    "print(confusion_matrix(y_test, y_test_pred_classes))"
   ]
  },
  {
   "cell_type": "markdown",
   "metadata": {
    "id": "DjErl4GA2u9s"
   },
   "source": [
    "**Final Observations:**\n",
    "\n",
    "***1. Classification report***\n",
    "\n",
    "Class 0 and 8 have the highest precision of 0.85 and 0.86.\n",
    "\n",
    "The model has the least precision with class 3 and 7, 0.7 each.\n",
    "\n",
    "In terms of recall, the model performs best on class 7, identifying 88% of all class 7 instances correctly.\n",
    "\n",
    "The model has the worst recall for class 8, where it only identifies 66% of all class 8 instances.\n",
    "\n",
    "The model performs best on class 0 and 4 in terms of F1-score.\n",
    "\n",
    "The overall accuracy of the model is 0.78, which indicates that 78% of all classifications are correct. The macro average and the weighted average are also 0.78.\n",
    "\n",
    "***2. Confusion Matrix***\n",
    "\n",
    "The model performs best on class 1, where 1540 out of 1828 are correct identifications. \n",
    "\n",
    "It performs worst on class 8, where only 1194 out of 1812 instances are correctly identified.\n",
    "\n",
    "The model is most frequently confusing between some specific pairs of classes (like 2 and 7, 3 and 5, 8 and 9).\n",
    "\n",
    "For class 2, the model confuses it to be class 7 quite often (223 instances).\n",
    "\n",
    "For class 5, the model seems to misclassify it as class 3 (177 instances).\n",
    "\n",
    "Class 8 is often misclassified as class 9 (122 instances).\n",
    "\n",
    "The above are the 3 most frequent misclassification instances.\n",
    "\n",
    "\n",
    "\n"
   ]
  },
  {
   "cell_type": "markdown",
   "metadata": {
    "id": "xkR4JioMsuIV"
   },
   "source": [
    "## **Using Convolutional Neural Networks**"
   ]
  },
  {
   "cell_type": "markdown",
   "metadata": {
    "id": "YN2YgkGL_6xQ"
   },
   "source": [
    "### **Load the dataset again and split the data into the train and the test dataset.**"
   ]
  },
  {
   "cell_type": "code",
   "execution_count": 51,
   "metadata": {
    "id": "mqM204HbAjP2",
    "scrolled": true
   },
   "outputs": [],
   "source": [
    "data = h5py.File('/content/drive/MyDrive/Elective Project/SVHN_single_grey1.h5', 'r')\n",
    "\n",
    "X_train = data['X_train'][:]\n",
    "y_train = data['y_train'][:]\n",
    "X_test = data['X_test'][:]\n",
    "y_test = data['y_test'][:]\n",
    "\n",
    "data.close()"
   ]
  },
  {
   "cell_type": "markdown",
   "metadata": {
    "id": "6fPqF_xGAjQB"
   },
   "source": [
    "Check the number of images in the training and the testing dataset."
   ]
  },
  {
   "cell_type": "code",
   "execution_count": 52,
   "metadata": {
    "colab": {
     "base_uri": "https://localhost:8080/"
    },
    "id": "gTLJZWjPAjQB",
    "outputId": "152f223a-2d12-4afc-e925-39be2c07a58d"
   },
   "outputs": [
    {
     "name": "stdout",
     "output_type": "stream",
     "text": [
      "Number of images in the training dataset:  42000\n",
      "Number of images in the testing dataset:  18000\n"
     ]
    }
   ],
   "source": [
    "print(\"Number of images in the training dataset: \", X_train.shape[0])\n",
    "\n",
    "print(\"Number of images in the testing dataset: \", X_test.shape[0])"
   ]
  },
  {
   "cell_type": "markdown",
   "metadata": {
    "id": "9qyMiP_rAjQB"
   },
   "source": [
    "**Observation:**\n",
    "\n",
    "There are 42,000 images in the train set and 18,000 in the test set.\n"
   ]
  },
  {
   "cell_type": "markdown",
   "metadata": {
    "id": "OJndFfEVAjQG"
   },
   "source": [
    "## **Data preparation**\n",
    "\n",
    "- Print the shape and the array of pixels for the first image in the training dataset.\n",
    "- Reshape the train and the test dataset because we always have to give a 4D array as input to CNNs.\n",
    "- Normalize the train and the test dataset by dividing by 255.\n",
    "- Print the new shapes of the train and the test dataset.\n",
    "- One-hot encode the target variable."
   ]
  },
  {
   "cell_type": "code",
   "execution_count": 54,
   "metadata": {
    "colab": {
     "base_uri": "https://localhost:8080/"
    },
    "id": "W4uXqKz1AjQG",
    "outputId": "b3b96050-d0f0-4130-bc8b-93c36db30bf6"
   },
   "outputs": [
    {
     "name": "stdout",
     "output_type": "stream",
     "text": [
      "Shape of the first image in the training dataset:\n",
      " (32, 32)\n",
      "Array of pixels for the first image in the training dataset:\n",
      " [[ 33.0704  30.2601  26.852  ...  71.4471  58.2204  42.9939]\n",
      " [ 25.2283  25.5533  29.9765 ... 113.0209 103.3639  84.2949]\n",
      " [ 26.2775  22.6137  40.4763 ... 113.3028 121.775  115.4228]\n",
      " ...\n",
      " [ 28.5502  36.212   45.0801 ...  24.1359  25.0927  26.0603]\n",
      " [ 38.4352  26.4733  23.2717 ...  28.1094  29.4683  30.0661]\n",
      " [ 50.2984  26.0773  24.0389 ...  49.6682  50.853   53.0377]]\n"
     ]
    }
   ],
   "source": [
    "# Print the shape and the array of pixels \n",
    "print(\"Shape of the first image in the training dataset:\\n\", X_train[0].shape)\n",
    "print(\"Array of pixels for the first image in the training dataset:\\n\", X_train[0])\n"
   ]
  },
  {
   "cell_type": "markdown",
   "metadata": {
    "id": "at30iiX1__7F"
   },
   "source": [
    "Reshape the dataset to be able to pass them to CNNs. Remember that we always have to give a 4D array as input to CNNs"
   ]
  },
  {
   "cell_type": "code",
   "execution_count": 56,
   "metadata": {
    "id": "D9YPwf9ysqWU"
   },
   "outputs": [],
   "source": [
    "X_train = X_train.reshape(-X_train.shape[0], 32, 32, 1)\n",
    "X_test = X_test.reshape(X_test.shape[0], 32, 32, 1)"
   ]
  },
  {
   "cell_type": "markdown",
   "metadata": {
    "id": "ODYnoLfaAEGx"
   },
   "source": [
    "Normalize inputs from 0-255 to 0-1"
   ]
  },
  {
   "cell_type": "code",
   "execution_count": 57,
   "metadata": {
    "id": "eOGLAn40AjQG"
   },
   "outputs": [],
   "source": [
    "X_train = X_train / 255.0\n",
    "X_test = X_test / 255.0"
   ]
  },
  {
   "cell_type": "markdown",
   "metadata": {
    "id": "cS9T4HqjAoyM"
   },
   "source": [
    "Print New shape of Training and Test"
   ]
  },
  {
   "cell_type": "code",
   "execution_count": 60,
   "metadata": {
    "colab": {
     "base_uri": "https://localhost:8080/"
    },
    "id": "5qf8S5NQAjQG",
    "outputId": "68e4bfe9-84ec-477a-85bf-c4018171c753"
   },
   "outputs": [
    {
     "name": "stdout",
     "output_type": "stream",
     "text": [
      "New shape of the training dataset:  (42000, 32, 32, 1)\n",
      "New shape of the testing dataset:  (18000, 32, 32, 1)\n"
     ]
    }
   ],
   "source": [
    "print(\"New shape of the training dataset: \", X_train.shape)\n",
    "print(\"New shape of the testing dataset: \", X_test.shape)"
   ]
  },
  {
   "cell_type": "markdown",
   "metadata": {
    "id": "10QaOV-xR7Jn"
   },
   "source": [
    "### **One-hot encode the labels in the target variable y_train and y_test.**"
   ]
  },
  {
   "cell_type": "code",
   "execution_count": 61,
   "metadata": {
    "colab": {
     "base_uri": "https://localhost:8080/"
    },
    "id": "3KHWFWKMAjQH",
    "outputId": "6b149483-6f2e-4a2f-db25-5f97cbd035dd"
   },
   "outputs": [
    {
     "data": {
      "text/plain": [
       "array([[0., 1., 0., ..., 0., 0., 0.],\n",
       "       [0., 0., 0., ..., 1., 0., 0.],\n",
       "       [0., 0., 1., ..., 0., 0., 0.],\n",
       "       ...,\n",
       "       [0., 0., 0., ..., 1., 0., 0.],\n",
       "       [0., 0., 0., ..., 0., 0., 1.],\n",
       "       [0., 0., 1., ..., 0., 0., 0.]], dtype=float32)"
      ]
     },
     "execution_count": 61,
     "metadata": {},
     "output_type": "execute_result"
    }
   ],
   "source": [
    "y_train_encoded = to_categorical(y_train)\n",
    "y_test_encoded = to_categorical(y_test)\n",
    "\n",
    "y_test_encoded"
   ]
  },
  {
   "cell_type": "markdown",
   "metadata": {
    "id": "H-8jYVQTAjQH"
   },
   "source": [
    "**Observation:**\n",
    "\n",
    "The new shapes of the X_train and X_test are 4D arrays now.\n",
    "\n",
    "For y_test and y_train, each label has been converted into a 1D array(vector) representing its value, e.g the label 3 is now represented as [0., 0., 0., 1., 0., 0., 0., 0., 0., 0.] (since there are 10 labels total inclusive of 0)"
   ]
  },
  {
   "cell_type": "markdown",
   "metadata": {
    "id": "Vjx_LI4_AjQH"
   },
   "source": [
    "## **Model Building**\n",
    "\n",
    "Now that we have done data preprocessing, let's build a CNN model.\n",
    "Fix the seed for random number generators"
   ]
  },
  {
   "cell_type": "code",
   "execution_count": 69,
   "metadata": {
    "id": "ZY5pyF4-KDNt"
   },
   "outputs": [],
   "source": [
    "backend.clear_session()\n",
    "np.random.seed(25)\n",
    "random.seed(25)\n",
    "tf.random.set_seed(25)"
   ]
  },
  {
   "cell_type": "markdown",
   "metadata": {
    "id": "1JUAczhzAjQH"
   },
   "source": [
    "### **Model Architecture**\n",
    "- **Write a function** that returns a sequential model with the following architecture:\n",
    " - First Convolutional layer with **16 filters and the kernel size of 3x3**. Use the **'same' padding** and provide the **input shape = (32, 32, 1)**\n",
    " - Add a **LeakyRelu layer** with the **slope equal to 0.1**\n",
    " - Second Convolutional layer with **32 filters and the kernel size of 3x3 with 'same' padding**\n",
    " - Another **LeakyRelu** with the **slope equal to 0.1**\n",
    " - A **max-pooling layer** with a **pool size of 2x2**\n",
    " - **Flatten** the output from the previous layer\n",
    " - Add a **dense layer with 32 nodes**\n",
    " - Add a **LeakyRelu layer with the slope equal to 0.1**\n",
    " - Add the final **output layer with nodes equal to the number of classes, i.e., 10** and **'softmax' as the activation function**\n",
    " - Compile the model with the **loss equal to categorical_crossentropy, optimizer equal to Adam(learning_rate = 0.001), and metric equal to 'accuracy'**. Do not fit the model here, just return the compiled model.\n",
    "- Call the function cnn_model_1 and store the output in a new variable.\n",
    "- Print the summary of the model.\n",
    "- Fit the model on the training data with a **validation split of 0.2, batch size = 32, verbose = 1, and epochs = 20**. Store the model building history to use later for visualization."
   ]
  },
  {
   "cell_type": "markdown",
   "metadata": {
    "id": "JWsAd45JKDNu"
   },
   "source": [
    "### **Build and train a CNN model as per the above mentioned architecture.**"
   ]
  },
  {
   "cell_type": "code",
   "execution_count": 70,
   "metadata": {
    "colab": {
     "base_uri": "https://localhost:8080/"
    },
    "id": "L1jOYANWAjQH",
    "outputId": "5dda5c49-7e48-45b1-8a53-a113a632ba2b"
   },
   "outputs": [
    {
     "name": "stdout",
     "output_type": "stream",
     "text": [
      "Model: \"sequential\"\n",
      "_________________________________________________________________\n",
      " Layer (type)                Output Shape              Param #   \n",
      "=================================================================\n",
      " conv2d (Conv2D)             (None, 32, 32, 16)        160       \n",
      "                                                                 \n",
      " leaky_re_lu (LeakyReLU)     (None, 32, 32, 16)        0         \n",
      "                                                                 \n",
      " conv2d_1 (Conv2D)           (None, 32, 32, 32)        4640      \n",
      "                                                                 \n",
      " leaky_re_lu_1 (LeakyReLU)   (None, 32, 32, 32)        0         \n",
      "                                                                 \n",
      " max_pooling2d (MaxPooling2D  (None, 16, 16, 32)       0         \n",
      " )                                                               \n",
      "                                                                 \n",
      " flatten (Flatten)           (None, 8192)              0         \n",
      "                                                                 \n",
      " dense (Dense)               (None, 32)                262176    \n",
      "                                                                 \n",
      " leaky_re_lu_2 (LeakyReLU)   (None, 32)                0         \n",
      "                                                                 \n",
      " dense_1 (Dense)             (None, 10)                330       \n",
      "                                                                 \n",
      "=================================================================\n",
      "Total params: 267,306\n",
      "Trainable params: 267,306\n",
      "Non-trainable params: 0\n",
      "_________________________________________________________________\n",
      "None\n"
     ]
    }
   ],
   "source": [
    "#CNN Model 1 Function\n",
    "def cnn_model_1():\n",
    "    model = Sequential()\n",
    "    model.add(Conv2D(16, kernel_size=(3, 3), padding='same', input_shape=(32, 32, 1)))\n",
    "    model.add(LeakyReLU(alpha=0.1))\n",
    "    model.add(Conv2D(32, kernel_size=(3, 3), padding='same'))\n",
    "    model.add(LeakyReLU(alpha=0.1))\n",
    "    model.add(MaxPooling2D(pool_size=(2, 2)))\n",
    "    model.add(Flatten())\n",
    "    model.add(Dense(32))\n",
    "    model.add(LeakyReLU(alpha=0.1))\n",
    "    model.add(Dense(10, activation='softmax'))\n",
    "    model.compile(loss='categorical_crossentropy', optimizer=Adam(learning_rate=0.001), metrics=['accuracy'])\n",
    "    return model\n",
    "\n",
    "#Declaring the model\n",
    "cnn_model = cnn_model_1()\n",
    "print(cnn_model.summary())"
   ]
  },
  {
   "cell_type": "code",
   "execution_count": 71,
   "metadata": {
    "colab": {
     "base_uri": "https://localhost:8080/"
    },
    "id": "98gOwbfUlBCb",
    "outputId": "4c76ba0b-16dd-41cd-9149-82acf888848f"
   },
   "outputs": [
    {
     "name": "stdout",
     "output_type": "stream",
     "text": [
      "Epoch 1/20\n",
      "1050/1050 [==============================] - 87s 82ms/step - loss: 1.0949 - accuracy: 0.6476 - val_loss: 0.6117 - val_accuracy: 0.8292\n",
      "Epoch 2/20\n",
      "1050/1050 [==============================] - 81s 78ms/step - loss: 0.5389 - accuracy: 0.8452 - val_loss: 0.5400 - val_accuracy: 0.8432\n",
      "Epoch 3/20\n",
      "1050/1050 [==============================] - 78s 75ms/step - loss: 0.4415 - accuracy: 0.8723 - val_loss: 0.4568 - val_accuracy: 0.8694\n",
      "Epoch 4/20\n",
      "1050/1050 [==============================] - 87s 83ms/step - loss: 0.3820 - accuracy: 0.8876 - val_loss: 0.4811 - val_accuracy: 0.8656\n",
      "Epoch 5/20\n",
      "1050/1050 [==============================] - 77s 74ms/step - loss: 0.3340 - accuracy: 0.9020 - val_loss: 0.4445 - val_accuracy: 0.8781\n",
      "Epoch 6/20\n",
      "1050/1050 [==============================] - 84s 80ms/step - loss: 0.3009 - accuracy: 0.9110 - val_loss: 0.4613 - val_accuracy: 0.8775\n",
      "Epoch 7/20\n",
      "1050/1050 [==============================] - 86s 82ms/step - loss: 0.2689 - accuracy: 0.9193 - val_loss: 0.4508 - val_accuracy: 0.8763\n",
      "Epoch 8/20\n",
      "1050/1050 [==============================] - 77s 73ms/step - loss: 0.2411 - accuracy: 0.9276 - val_loss: 0.4853 - val_accuracy: 0.8727\n",
      "Epoch 9/20\n",
      "1050/1050 [==============================] - 79s 76ms/step - loss: 0.2132 - accuracy: 0.9351 - val_loss: 0.5185 - val_accuracy: 0.8699\n",
      "Epoch 10/20\n",
      "1050/1050 [==============================] - 79s 75ms/step - loss: 0.1932 - accuracy: 0.9412 - val_loss: 0.4941 - val_accuracy: 0.8770\n",
      "Epoch 11/20\n",
      "1050/1050 [==============================] - 79s 76ms/step - loss: 0.1735 - accuracy: 0.9458 - val_loss: 0.5269 - val_accuracy: 0.8758\n",
      "Epoch 12/20\n",
      "1050/1050 [==============================] - 79s 75ms/step - loss: 0.1564 - accuracy: 0.9518 - val_loss: 0.5342 - val_accuracy: 0.8750\n",
      "Epoch 13/20\n",
      "1050/1050 [==============================] - 77s 74ms/step - loss: 0.1435 - accuracy: 0.9544 - val_loss: 0.6004 - val_accuracy: 0.8654\n",
      "Epoch 14/20\n",
      "1050/1050 [==============================] - 88s 84ms/step - loss: 0.1283 - accuracy: 0.9596 - val_loss: 0.5886 - val_accuracy: 0.8639\n",
      "Epoch 15/20\n",
      "1050/1050 [==============================] - 92s 88ms/step - loss: 0.1183 - accuracy: 0.9606 - val_loss: 0.6096 - val_accuracy: 0.8758\n",
      "Epoch 16/20\n",
      "1050/1050 [==============================] - 83s 79ms/step - loss: 0.1026 - accuracy: 0.9672 - val_loss: 0.6623 - val_accuracy: 0.8710\n",
      "Epoch 17/20\n",
      "1050/1050 [==============================] - 79s 75ms/step - loss: 0.0911 - accuracy: 0.9707 - val_loss: 0.7007 - val_accuracy: 0.8683\n",
      "Epoch 18/20\n",
      "1050/1050 [==============================] - 80s 76ms/step - loss: 0.0899 - accuracy: 0.9699 - val_loss: 0.7560 - val_accuracy: 0.8713\n",
      "Epoch 19/20\n",
      "1050/1050 [==============================] - 80s 76ms/step - loss: 0.0841 - accuracy: 0.9725 - val_loss: 0.7832 - val_accuracy: 0.8680\n",
      "Epoch 20/20\n",
      "1050/1050 [==============================] - 81s 77ms/step - loss: 0.0751 - accuracy: 0.9750 - val_loss: 0.8021 - val_accuracy: 0.8660\n"
     ]
    }
   ],
   "source": [
    "#Fitting\n",
    "history = cnn_model.fit(X_train, y_train_encoded, validation_split=0.2, batch_size=32, verbose=1, epochs=20)"
   ]
  },
  {
   "cell_type": "markdown",
   "metadata": {
    "id": "JPzfIf9kKDNw"
   },
   "source": [
    "### **Plot the Training and Validation Accuracies and Write your observations.**"
   ]
  },
  {
   "cell_type": "code",
   "execution_count": 72,
   "metadata": {
    "colab": {
     "base_uri": "https://localhost:8080/",
     "height": 472
    },
    "id": "07oUCr1kAjQH",
    "outputId": "b21320cd-e28c-4326-d89e-b624a1513fe2"
   },
   "outputs": [
    {
     "data": {
      "image/png": "[encoded data removed]",
      "text/plain": [
       "<Figure size 640x480 with 1 Axes>"
      ]
     },
     "metadata": {},
     "output_type": "display_data"
    }
   ],
   "source": [
    "# Plot training & validation accuracy values\n",
    "plt.plot(history.history['accuracy'])\n",
    "plt.plot(history.history['val_accuracy'])\n",
    "plt.title('Model accuracy')\n",
    "plt.ylabel('Accuracy')\n",
    "plt.xlabel('Epoch')\n",
    "plt.legend(['Train', 'Validation'], loc='upper left')\n",
    "\n",
    "plt.show()"
   ]
  },
  {
   "cell_type": "markdown",
   "metadata": {
    "id": "P6zTLyp9AjQH"
   },
   "source": [
    "**Observations:**\n",
    "\n",
    "The training accuracy continues to increase while the validation accuracy decreases/stagnates after 2 epochs which strongly indicates overfitting. The model has learnt the training data too well negatively impacting its ability to generalize to new data."
   ]
  },
  {
   "cell_type": "markdown",
   "metadata": {
    "id": "Ukvtg2eMAjQH"
   },
   "source": [
    "Let's build another model and see if we can get a better model with generalized performance.\n",
    "\n",
    "First, we need to clear the previous model's history from the Keras backend. Also, let's fix the seed again after clearing the backend."
   ]
  },
  {
   "cell_type": "code",
   "execution_count": 78,
   "metadata": {
    "id": "HbKi93HTolGW"
   },
   "outputs": [],
   "source": [
    "backend.clear_session()\n",
    "np.random.seed(25)\n",
    "random.seed(25)\n",
    "tf.random.set_seed(25)"
   ]
  },
  {
   "cell_type": "markdown",
   "metadata": {
    "id": "Ep19Jd8HAjQH"
   },
   "source": [
    "### **Second Model Architecture**\n",
    "\n",
    "- Write a function that returns a sequential model with the following architecture:\n",
    " - First Convolutional layer with **16 filters and the kernel size of 3x3**. Use the **'same' padding** and provide the **input shape = (32, 32, 1)**\n",
    " - Add a **LeakyRelu layer** with the **slope equal to 0.1**\n",
    " - Second Convolutional layer with **32 filters and the kernel size of 3x3 with 'same' padding**\n",
    " - Add **LeakyRelu** with the **slope equal to 0.1**\n",
    " - Add a **max-pooling layer** with a **pool size of 2x2**\n",
    " - Add a **BatchNormalization layer**\n",
    " - Third Convolutional layer with **32 filters and the kernel size of 3x3 with 'same' padding**\n",
    " - Add a **LeakyRelu layer with the slope equal to 0.1**\n",
    " - Fourth Convolutional layer **64 filters and the kernel size of 3x3 with 'same' padding** \n",
    " - Add a **LeakyRelu layer with the slope equal to 0.1**\n",
    " - Add a **max-pooling layer** with a **pool size of 2x2**\n",
    " - Add a **BatchNormalization layer**\n",
    " - **Flatten** the output from the previous layer\n",
    " - Add a **dense layer with 32 nodes**\n",
    " - Add a **LeakyRelu layer with the slope equal to 0.1**\n",
    " - Add a **dropout layer with the rate equal to 0.5**\n",
    " - Add the final **output layer with nodes equal to the number of classes, i.e., 10** and **'softmax' as the activation function**\n",
    " - Compile the model with the **categorical_crossentropy loss, adam optimizers (learning_rate = 0.001), and metric equal to 'accuracy'**. Do not fit the model here, just return the compiled model.\n",
    "- Call the function cnn_model_2 and store the model in a new variable.\n",
    "- Print the summary of the model.\n",
    "- Fit the model on the train data with a **validation split of 0.2, batch size = 128, verbose = 1, and epochs = 30**. Store the model building history to use later for visualization."
   ]
  },
  {
   "cell_type": "markdown",
   "metadata": {
    "id": "y5IBLS1eKDNy"
   },
   "source": [
    "### **Build and train the second CNN model as per the above mentioned architecture.**"
   ]
  },
  {
   "cell_type": "code",
   "execution_count": 79,
   "metadata": {
    "colab": {
     "base_uri": "https://localhost:8080/"
    },
    "id": "wk9sl2UEAjQH",
    "outputId": "d0bb2c9e-8f7d-463a-9fd9-df25d02542ee"
   },
   "outputs": [
    {
     "name": "stdout",
     "output_type": "stream",
     "text": [
      "Model: \"sequential\"\n",
      "_________________________________________________________________\n",
      " Layer (type)                Output Shape              Param #   \n",
      "=================================================================\n",
      " conv2d (Conv2D)             (None, 32, 32, 16)        160       \n",
      "                                                                 \n",
      " leaky_re_lu (LeakyReLU)     (None, 32, 32, 16)        0         \n",
      "                                                                 \n",
      " conv2d_1 (Conv2D)           (None, 32, 32, 32)        4640      \n",
      "                                                                 \n",
      " leaky_re_lu_1 (LeakyReLU)   (None, 32, 32, 32)        0         \n",
      "                                                                 \n",
      " max_pooling2d (MaxPooling2D  (None, 16, 16, 32)       0         \n",
      " )                                                               \n",
      "                                                                 \n",
      " batch_normalization (BatchN  (None, 16, 16, 32)       128       \n",
      " ormalization)                                                   \n",
      "                                                                 \n",
      " conv2d_2 (Conv2D)           (None, 16, 16, 32)        9248      \n",
      "                                                                 \n",
      " leaky_re_lu_2 (LeakyReLU)   (None, 16, 16, 32)        0         \n",
      "                                                                 \n",
      " conv2d_3 (Conv2D)           (None, 16, 16, 64)        18496     \n",
      "                                                                 \n",
      " leaky_re_lu_3 (LeakyReLU)   (None, 16, 16, 64)        0         \n",
      "                                                                 \n",
      " max_pooling2d_1 (MaxPooling  (None, 8, 8, 64)         0         \n",
      " 2D)                                                             \n",
      "                                                                 \n",
      " batch_normalization_1 (Batc  (None, 8, 8, 64)         256       \n",
      " hNormalization)                                                 \n",
      "                                                                 \n",
      " flatten (Flatten)           (None, 4096)              0         \n",
      "                                                                 \n",
      " dense (Dense)               (None, 32)                131104    \n",
      "                                                                 \n",
      " leaky_re_lu_4 (LeakyReLU)   (None, 32)                0         \n",
      "                                                                 \n",
      " dropout (Dropout)           (None, 32)                0         \n",
      "                                                                 \n",
      " dense_1 (Dense)             (None, 10)                330       \n",
      "                                                                 \n",
      "=================================================================\n",
      "Total params: 164,362\n",
      "Trainable params: 164,170\n",
      "Non-trainable params: 192\n",
      "_________________________________________________________________\n",
      "None\n"
     ]
    }
   ],
   "source": [
    "def cnn_model_2():\n",
    "    model = Sequential()\n",
    "    model.add(Conv2D(16, kernel_size=(3, 3), padding='same', input_shape=(32, 32, 1)))\n",
    "    model.add(LeakyReLU(alpha=0.1))\n",
    "    model.add(Conv2D(32, kernel_size=(3, 3), padding='same'))\n",
    "    model.add(LeakyReLU(alpha=0.1))\n",
    "    model.add(MaxPooling2D(pool_size=(2, 2)))\n",
    "    model.add(BatchNormalization())\n",
    "    model.add(Conv2D(32, kernel_size=(3, 3), padding='same'))\n",
    "    model.add(LeakyReLU(alpha=0.1))\n",
    "    model.add(Conv2D(64, kernel_size=(3, 3), padding='same'))\n",
    "    model.add(LeakyReLU(alpha=0.1))\n",
    "    model.add(MaxPooling2D(pool_size=(2, 2)))\n",
    "    model.add(BatchNormalization())\n",
    "    model.add(Flatten())\n",
    "    model.add(Dense(32))\n",
    "    model.add(LeakyReLU(alpha=0.1))\n",
    "    model.add(Dropout(0.5))\n",
    "    model.add(Dense(10, activation='softmax'))\n",
    "    model.compile(loss='categorical_crossentropy', optimizer=Adam(learning_rate=0.001), metrics=['accuracy'])\n",
    "    return model\n",
    "\n",
    "cnn_model2 = cnn_model_2()\n",
    "print(cnn_model2.summary())"
   ]
  },
  {
   "cell_type": "code",
   "execution_count": 80,
   "metadata": {
    "colab": {
     "base_uri": "https://localhost:8080/"
    },
    "id": "iPeX3Xv-p8Ag",
    "outputId": "bd03c767-4206-4526-9437-f11c2e472f02"
   },
   "outputs": [
    {
     "name": "stdout",
     "output_type": "stream",
     "text": [
      "Epoch 1/30\n",
      "263/263 [==============================] - 144s 541ms/step - loss: 1.3585 - accuracy: 0.5414 - val_loss: 1.9525 - val_accuracy: 0.2493\n",
      "Epoch 2/30\n",
      "263/263 [==============================] - 138s 525ms/step - loss: 0.6841 - accuracy: 0.7921 - val_loss: 0.6527 - val_accuracy: 0.8202\n",
      "Epoch 3/30\n",
      "263/263 [==============================] - 136s 516ms/step - loss: 0.5580 - accuracy: 0.8316 - val_loss: 0.4403 - val_accuracy: 0.8748\n",
      "Epoch 4/30\n",
      "263/263 [==============================] - 136s 519ms/step - loss: 0.4938 - accuracy: 0.8478 - val_loss: 0.4269 - val_accuracy: 0.8812\n",
      "Epoch 5/30\n",
      "263/263 [==============================] - 140s 533ms/step - loss: 0.4391 - accuracy: 0.8677 - val_loss: 0.3779 - val_accuracy: 0.8954\n",
      "Epoch 6/30\n",
      "263/263 [==============================] - 134s 510ms/step - loss: 0.4087 - accuracy: 0.8749 - val_loss: 0.3997 - val_accuracy: 0.8886\n",
      "Epoch 7/30\n",
      "263/263 [==============================] - 138s 527ms/step - loss: 0.3849 - accuracy: 0.8830 - val_loss: 0.3721 - val_accuracy: 0.8993\n",
      "Epoch 8/30\n",
      "263/263 [==============================] - 138s 525ms/step - loss: 0.3500 - accuracy: 0.8935 - val_loss: 0.3884 - val_accuracy: 0.9007\n",
      "Epoch 9/30\n",
      "263/263 [==============================] - 132s 504ms/step - loss: 0.3286 - accuracy: 0.8990 - val_loss: 0.3851 - val_accuracy: 0.8956\n",
      "Epoch 10/30\n",
      "263/263 [==============================] - 135s 513ms/step - loss: 0.3087 - accuracy: 0.9049 - val_loss: 0.3339 - val_accuracy: 0.9083\n",
      "Epoch 11/30\n",
      "263/263 [==============================] - 135s 513ms/step - loss: 0.2969 - accuracy: 0.9084 - val_loss: 0.3674 - val_accuracy: 0.9054\n",
      "Epoch 12/30\n",
      "263/263 [==============================] - 134s 508ms/step - loss: 0.2768 - accuracy: 0.9125 - val_loss: 0.3285 - val_accuracy: 0.9131\n",
      "Epoch 13/30\n",
      "263/263 [==============================] - 136s 518ms/step - loss: 0.2690 - accuracy: 0.9149 - val_loss: 0.3646 - val_accuracy: 0.9054\n",
      "Epoch 14/30\n",
      "263/263 [==============================] - 135s 514ms/step - loss: 0.2554 - accuracy: 0.9190 - val_loss: 0.3441 - val_accuracy: 0.9083\n",
      "Epoch 15/30\n",
      "263/263 [==============================] - 135s 514ms/step - loss: 0.2403 - accuracy: 0.9235 - val_loss: 0.3527 - val_accuracy: 0.9092\n",
      "Epoch 16/30\n",
      "263/263 [==============================] - 136s 517ms/step - loss: 0.2342 - accuracy: 0.9251 - val_loss: 0.3835 - val_accuracy: 0.9079\n",
      "Epoch 17/30\n",
      "263/263 [==============================] - 132s 502ms/step - loss: 0.2244 - accuracy: 0.9295 - val_loss: 0.3942 - val_accuracy: 0.9031\n",
      "Epoch 18/30\n",
      "263/263 [==============================] - 131s 498ms/step - loss: 0.2210 - accuracy: 0.9279 - val_loss: 0.4460 - val_accuracy: 0.8873\n",
      "Epoch 19/30\n",
      "263/263 [==============================] - 138s 525ms/step - loss: 0.2030 - accuracy: 0.9337 - val_loss: 0.3804 - val_accuracy: 0.9117\n",
      "Epoch 20/30\n",
      "263/263 [==============================] - 139s 530ms/step - loss: 0.2042 - accuracy: 0.9348 - val_loss: 0.3856 - val_accuracy: 0.9093\n",
      "Epoch 21/30\n",
      "263/263 [==============================] - 141s 538ms/step - loss: 0.1933 - accuracy: 0.9358 - val_loss: 0.4192 - val_accuracy: 0.9152\n",
      "Epoch 22/30\n",
      "263/263 [==============================] - 136s 518ms/step - loss: 0.1874 - accuracy: 0.9390 - val_loss: 0.4113 - val_accuracy: 0.9132\n",
      "Epoch 23/30\n",
      "263/263 [==============================] - 135s 514ms/step - loss: 0.1769 - accuracy: 0.9415 - val_loss: 0.3867 - val_accuracy: 0.9105\n",
      "Epoch 24/30\n",
      "263/263 [==============================] - 134s 509ms/step - loss: 0.1788 - accuracy: 0.9415 - val_loss: 0.4002 - val_accuracy: 0.9126\n",
      "Epoch 25/30\n",
      "263/263 [==============================] - 135s 513ms/step - loss: 0.1745 - accuracy: 0.9415 - val_loss: 0.4220 - val_accuracy: 0.9156\n",
      "Epoch 26/30\n",
      "263/263 [==============================] - 135s 513ms/step - loss: 0.1699 - accuracy: 0.9441 - val_loss: 0.4137 - val_accuracy: 0.9054\n",
      "Epoch 27/30\n",
      "263/263 [==============================] - 135s 514ms/step - loss: 0.1563 - accuracy: 0.9471 - val_loss: 0.4440 - val_accuracy: 0.9114\n",
      "Epoch 28/30\n",
      "263/263 [==============================] - 138s 526ms/step - loss: 0.1613 - accuracy: 0.9469 - val_loss: 0.4148 - val_accuracy: 0.9139\n",
      "Epoch 29/30\n",
      "263/263 [==============================] - 135s 513ms/step - loss: 0.1492 - accuracy: 0.9504 - val_loss: 0.4576 - val_accuracy: 0.9079\n",
      "Epoch 30/30\n",
      "263/263 [==============================] - 133s 505ms/step - loss: 0.1495 - accuracy: 0.9500 - val_loss: 0.4111 - val_accuracy: 0.9150\n"
     ]
    }
   ],
   "source": [
    "history_2 = cnn_model2.fit(X_train, y_train_encoded, validation_split=0.2, batch_size=128, verbose=1, epochs=30)"
   ]
  },
  {
   "cell_type": "markdown",
   "metadata": {
    "id": "PyhUtMy3KDN1"
   },
   "source": [
    "### **Plot the Training and Validation accuracies and write your observations.**"
   ]
  },
  {
   "cell_type": "code",
   "execution_count": 88,
   "metadata": {
    "colab": {
     "base_uri": "https://localhost:8080/",
     "height": 472
    },
    "id": "YVQu7uWiAjQH",
    "outputId": "6fc299a9-bcdb-4664-dda5-4fed814345a1"
   },
   "outputs": [
    {
     "data": {
      "image/png": "[encoded data removed]",
      "text/plain": [
       "<Figure size 640x480 with 1 Axes>"
      ]
     },
     "metadata": {},
     "output_type": "display_data"
    }
   ],
   "source": [
    "# Plot training & validation accuracy values\n",
    "plt.plot(history_2.history['accuracy'])\n",
    "plt.plot(history_2.history['val_accuracy'])\n",
    "plt.title('Model accuracy')\n",
    "plt.ylabel('Accuracy')\n",
    "plt.xlabel('Epoch')\n",
    "plt.legend(['Train', 'Validation'], loc='lower right')\n",
    "\n",
    "plt.show()"
   ]
  },
  {
   "cell_type": "markdown",
   "metadata": {
    "id": "Qrrt0Ac3AjQH"
   },
   "source": [
    "**Observations:**\n",
    "\n",
    "1.   Convergenece occurs around 4 epochs after which improvements are incremental, not rapid.\n",
    "2.   There are slight signs of overfitting towrads later epochs as the training and validation accuracies get separated but not by much.\n",
    "1.   Overall accuracy has improved compared to the previous model."
   ]
  },
  {
   "cell_type": "markdown",
   "metadata": {
    "id": "kja4SnOdAjQI"
   },
   "source": [
    "## **Predictions on the test data**\n",
    "\n",
    "- Make predictions on the test set using the second model.\n",
    "- Print the obtained results using the classification report and the confusion matrix.\n",
    "- Final observations on the obtained results."
   ]
  },
  {
   "cell_type": "markdown",
   "metadata": {
    "id": "eHCRwRbgKDN2"
   },
   "source": [
    "### **Make predictions on the test data using the second model.** "
   ]
  },
  {
   "cell_type": "code",
   "execution_count": 83,
   "metadata": {
    "colab": {
     "base_uri": "https://localhost:8080/"
    },
    "id": "f1d-VvaLAjQI",
    "outputId": "fd636d5b-b02a-4e87-a425-f036e123270a"
   },
   "outputs": [
    {
     "name": "stdout",
     "output_type": "stream",
     "text": [
      "563/563 [==============================] - 19s 32ms/step\n"
     ]
    }
   ],
   "source": [
    "y_test_pred = cnn_model2.predict(X_test)"
   ]
  },
  {
   "cell_type": "markdown",
   "metadata": {
    "id": "DrV1tOG0AjQI"
   },
   "source": [
    "**Note:** Earlier, we noticed that each entry of the target variable is a one-hot encoded vector, but to print the classification report and confusion matrix, we must convert each entry of y_test to a single label."
   ]
  },
  {
   "cell_type": "code",
   "execution_count": 85,
   "metadata": {
    "id": "dUSHU9W0AjQI"
   },
   "outputs": [],
   "source": [
    "# Convert the predictions back to labels\n",
    "y_test_pred_classes = np.argmax(y_test_pred, axis=1)"
   ]
  },
  {
   "cell_type": "code",
   "execution_count": 86,
   "metadata": {
    "colab": {
     "base_uri": "https://localhost:8080/"
    },
    "id": "m8JGTfrg9xe8",
    "outputId": "8805f29f-bdd9-44fd-b4cf-67aef5539db7"
   },
   "outputs": [
    {
     "name": "stdout",
     "output_type": "stream",
     "text": [
      "Classification Report:\n",
      "               precision    recall  f1-score   support\n",
      "\n",
      "           0       0.93      0.94      0.93      1814\n",
      "           1       0.90      0.91      0.90      1828\n",
      "           2       0.92      0.93      0.92      1803\n",
      "           3       0.90      0.89      0.89      1719\n",
      "           4       0.93      0.93      0.93      1812\n",
      "           5       0.89      0.93      0.91      1768\n",
      "           6       0.91      0.90      0.91      1832\n",
      "           7       0.95      0.92      0.93      1808\n",
      "           8       0.90      0.90      0.90      1812\n",
      "           9       0.92      0.90      0.91      1804\n",
      "\n",
      "    accuracy                           0.91     18000\n",
      "   macro avg       0.91      0.91      0.91     18000\n",
      "weighted avg       0.92      0.91      0.91     18000\n",
      "\n",
      "Confusion Matrix:\n",
      " [[1697   30   18    4    5    2   25    6   12   15]\n",
      " [  19 1665   17   19   44   11    8   20   14   11]\n",
      " [   5   12 1677   21   16    4    1   29   12   26]\n",
      " [   3   15   20 1524   12   64   24   12   31   14]\n",
      " [  10   38   16   10 1692    8   10    4   11   13]\n",
      " [   1    6    8   44    8 1647   27    2   11   14]\n",
      " [  21   11    8    9   16   59 1646    3   50    9]\n",
      " [   9   46   21   20   13    7    9 1663    7   13]\n",
      " [  18   15   18   24    6   13   47    4 1633   34]\n",
      " [  37   16   26   18    8   31    7   10   27 1624]]\n"
     ]
    }
   ],
   "source": [
    "# Print the classification report\n",
    "print(\"Classification Report:\\n\", classification_report(y_test, y_test_pred_classes))\n",
    "\n",
    "# Print the confusion matrix\n",
    "print(\"Confusion Matrix:\\n\", confusion_matrix(y_test, y_test_pred_classes))"
   ]
  },
  {
   "cell_type": "markdown",
   "metadata": {
    "id": "aVCa-ysWKDN3"
   },
   "source": [
    "### **Write your final observations on the performance of the model on the test data.**"
   ]
  },
  {
   "cell_type": "markdown",
   "metadata": {
    "id": "TNN9v713AjQJ"
   },
   "source": [
    "**Final Observations:**\n",
    "\n",
    "The second CNN model significantly has a significant improvement in accuracy compared to the previous models.\n",
    "\n",
    "***1. Classification Report:***\n",
    "\n",
    "All classes have a high precision score (around 0.9 to 0.95).\n",
    "\n",
    "All classes have a high recall score (around 0.9 to 0.94) which suggests that the model is good at identifying positive cases.\n",
    "\n",
    "F1 scores for all classes are high (around 0.89 to 0.93), which means the model maintains a good balance between precision and recall.\n",
    "\n",
    "The model has an overall accuracy of 0.91.\n",
    "\n",
    "***2. Confusion Matrix:***\n",
    "\n",
    "The highest frequencies of misclassifcations are as below:\n",
    "\n",
    "For class 3, the model confuses it with class 5 (64 times) and class 6 (24 times).\n",
    "\n",
    "Class 6 is misclassified as class 5 (59 times) and class 8 (50 times).\n",
    "\n",
    "Despite these misclassifications, the frequency of misclassfications is far less than those in the previous models. The model's overall performance is good as the values in the main diagonal (representing correct predictions) are significantly higher than those in other cells. \n"
   ]
  }
 ],
 "metadata": {
  "accelerator": "TPU",
  "colab": {
   "provenance": []
  },
  "kernelspec": {
   "display_name": "Python 3 (ipykernel)",
   "language": "python",
   "name": "python3"
  },
  "language_info": {
   "codemirror_mode": {
    "name": "ipython",
    "version": 3
   },
   "file_extension": ".py",
   "mimetype": "text/x-python",
   "name": "python",
   "nbconvert_exporter": "python",
   "pygments_lexer": "ipython3",
   "version": "3.9.13"
  }
 },
 "nbformat": 4,
 "nbformat_minor": 1
}
